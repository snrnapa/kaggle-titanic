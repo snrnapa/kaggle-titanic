{
 "cells": [
  {
   "cell_type": "markdown",
   "metadata": {},
   "source": [
    "### kaggle タイタニック生存者\n",
    "```\n",
    "kaggle competitions download -c titanic\n",
    "```"
   ]
  },
  {
   "cell_type": "code",
   "execution_count": null,
   "metadata": {},
   "outputs": [],
   "source": [
    "import os\n",
    "import pandas as pd\n",
    "import numpy as np\n",
    "import matplotlib.pyplot as plt\n",
    "import seaborn as sns\n",
    "import statsmodels.api as sm"
   ]
  },
  {
   "cell_type": "markdown",
   "metadata": {},
   "source": [
    "## Common function"
   ]
  },
  {
   "cell_type": "code",
   "execution_count": null,
   "metadata": {},
   "outputs": [],
   "source": [
    "def plot_bar(x_df: pd.Series , y_df:pd.Series):\n",
    "    if len(x_df.drop_duplicates()) > 100:\n",
    "        return\n",
    "    col_name  : str = x_df.name\n",
    "    if len(x_df.drop_duplicates()) >30:\n",
    "        plt.figure(figsize=(60 , 10))\n",
    "    else:\n",
    "        plt.figure(figsize=(10,5))\n",
    "    sns.barplot(x=x_df.sort_values() , y=y_df )\n",
    "    plt.title(f\"Survied Rate by {col_name}\")\n",
    "    plt.show()    \n",
    "\n"
   ]
  },
  {
   "cell_type": "markdown",
   "metadata": {},
   "source": [
    "### データの読み込み"
   ]
  },
  {
   "cell_type": "code",
   "execution_count": null,
   "metadata": {},
   "outputs": [],
   "source": [
    "\n",
    "train_df = pd.read_csv(\"input/train.csv\")\n",
    "test_df = pd.read_csv(\"input/test.csv\")\n",
    "train_df.info()\n",
    "# sns.barplot(x=train_df[\"Sex\"] , y=train_df[\"Survived\"] )\n",
    "train_df.head()"
   ]
  },
  {
   "cell_type": "code",
   "execution_count": null,
   "metadata": {},
   "outputs": [],
   "source": [
    "# train_df.value_counts()\n",
    "\n",
    "all_col_map = {}\n",
    "target_col_map = {}\n",
    "dummie_col_list = []\n",
    "train_cols_list : list = train_df.columns.to_list()\n",
    "for col in train_cols_list:\n",
    "    if len(train_df[col].drop_duplicates()) > 100:\n",
    "        continue\n",
    "    print(\"----------------------------\")\n",
    "    plot_bar(x_df=train_df[col] , y_df=train_df[\"Survived\"])\n",
    "    dummie_col_list.append(col)\n",
    "\n"
   ]
  },
  {
   "cell_type": "markdown",
   "metadata": {},
   "source": [
    "### 年齢だけは相関が把握しきれていないので、分布図に起こす"
   ]
  },
  {
   "cell_type": "code",
   "execution_count": null,
   "metadata": {},
   "outputs": [],
   "source": [
    "def create_age_group_dummy(df : pd.DataFrame) -> pd.DataFrame:\n",
    "    INTERVAL_BIN = 10\n",
    "\n",
    "    max_age : int = df[\"Age\"].max().astype(int)\n",
    "    min_age : int = df[\"Age\"].min().astype(int)\n",
    "    bins : list = [num for num in range(min_age , max_age  + INTERVAL_BIN , INTERVAL_BIN)]\n",
    "    labels : list = [f\"{bins[i]}-{bins[i + 1]}\" for i in range(len(bins) -1)]\n",
    "    df[\"Age_Group\"]  = pd.cut(df[\"Age\"] , bins=bins , labels=labels , right=False)\n",
    "\n",
    "    # plot_bar(df[\"Age_Group\"] , df[\"Survived\"])\n",
    "    age_group_mode : str = df[\"Age_Group\"].mode().values[0]\n",
    "    df[\"Age_Group\"] = df[\"Age_Group\"].fillna(age_group_mode)\n",
    "\n",
    "    ## この結果をもとに年齢区間のdummy変数を作成する\n",
    "    age_dummies = pd.get_dummies(df[\"Age_Group\"] , prefix=\"Age\" , dtype=int)\n",
    "    return age_dummies\n"
   ]
  },
  {
   "cell_type": "code",
   "execution_count": null,
   "metadata": {},
   "outputs": [],
   "source": [
    "excluede_dummies = [\n",
    "    \"Survived\" ,\n",
    "    \"Age\",\n",
    "    # \"Embarked\",\n",
    "    ]\n",
    "new_dummie_col_list = [col for col in dummie_col_list if col not in excluede_dummies]\n",
    "new_dummie_col_list"
   ]
  },
  {
   "cell_type": "markdown",
   "metadata": {},
   "source": [
    "## ほかカラムの前処理"
   ]
  },
  {
   "cell_type": "code",
   "execution_count": null,
   "metadata": {},
   "outputs": [],
   "source": [
    "def pre_exec(df : pd.DataFrame) -> pd.DataFrame:\n",
    "    # train_df[\"Cabin\"] = train_df[\"Cabin\"].fillna(\"\")\n",
    "    df[\"Embarked\"] = df[\"Embarked\"].fillna(\n",
    "        df[\"Embarked\"].mode().values[0]\n",
    "    )\n",
    "    new_df = df[new_dummie_col_list].copy()\n",
    "    new_df.info()\n",
    "    return new_df\n",
    "    "
   ]
  },
  {
   "cell_type": "markdown",
   "metadata": {},
   "source": [
    "## ダミー処理"
   ]
  },
  {
   "cell_type": "code",
   "execution_count": null,
   "metadata": {},
   "outputs": [],
   "source": [
    "def create_dummy_df(df : pd.DataFrame ) -> pd.DataFrame:\n",
    "    age_dummies : pd.DataFrame = create_age_group_dummy(df)\n",
    "    df = pre_exec(df)\n",
    "    \n",
    "    for col in [\"Pclass\" ,\n",
    "                # \"Parch\" , \n",
    "                # \"SibSp\"\n",
    "                ]:\n",
    "        \n",
    "        df[col] = df[col].astype(\"category\")\n",
    "    x = pd.get_dummies(df,\n",
    "                    drop_first=True,\n",
    "                    dtype=int)\n",
    "    x = pd.concat([x , age_dummies] , axis=1)\n",
    "    x.insert(0 , 'intercept' , 1)\n",
    "    return x"
   ]
  },
  {
   "cell_type": "code",
   "execution_count": null,
   "metadata": {},
   "outputs": [],
   "source": [
    "# train_df\n",
    "\n",
    "x = create_dummy_df(train_df)\n",
    "x.columns.tolist()"
   ]
  },
  {
   "cell_type": "markdown",
   "metadata": {},
   "source": [
    "## モデルのフィッティング"
   ]
  },
  {
   "cell_type": "code",
   "execution_count": null,
   "metadata": {},
   "outputs": [],
   "source": [
    "print(x.info())"
   ]
  },
  {
   "cell_type": "code",
   "execution_count": null,
   "metadata": {},
   "outputs": [],
   "source": []
  },
  {
   "cell_type": "code",
   "execution_count": null,
   "metadata": {},
   "outputs": [],
   "source": [
    "# モデルのフィッティング\n",
    "md = sm.Logit(train_df[\"Survived\"] , x)\n",
    "model = md.fit()\n",
    "print(model.summary())\n",
    "\n"
   ]
  },
  {
   "cell_type": "markdown",
   "metadata": {},
   "source": [
    "## 予測を行うテストデータの前処理"
   ]
  },
  {
   "cell_type": "code",
   "execution_count": null,
   "metadata": {},
   "outputs": [],
   "source": [
    "test_dummy_df = create_dummy_df(test_df)\n",
    "test_dummy_df.columns.tolist()"
   ]
  },
  {
   "cell_type": "code",
   "execution_count": null,
   "metadata": {},
   "outputs": [],
   "source": [
    "\n",
    "predict_values = model.predict(test_dummy_df)\n",
    "# # しきい値を 0.5 に設定し、0 or 1 に変換\n",
    "predict_binary = (predict_values >= 0.5).astype(int)\n",
    "# merge_df  = pd.DataFrame(columns={\n",
    "#     \"PassengerId\" : test_df[\"PassengerId\"],\n",
    "#     \"Survived\" : predict_binary\n",
    "# })\n",
    "merge_df  = pd.DataFrame({\n",
    "    \"PassengerId\" : test_df[\"PassengerId\"],\n",
    "    \"Survived\" : predict_binary,\n",
    "})\n",
    "\n",
    "\n",
    "\n",
    "os.makedirs(\"./out\" , exist_ok=True)\n",
    "\n",
    "merge_df.to_csv(\"./out/result.csv\", index=False)\n",
    "merge_df\n"
   ]
  },
  {
   "cell_type": "markdown",
   "metadata": {},
   "source": [
    "## 提出"
   ]
  },
  {
   "cell_type": "code",
   "execution_count": null,
   "metadata": {},
   "outputs": [],
   "source": [
    "! cd out & kaggle competitions submit titanic -f result.csv -m \"api submission\""
   ]
  },
  {
   "cell_type": "code",
   "execution_count": null,
   "metadata": {},
   "outputs": [],
   "source": []
  },
  {
   "cell_type": "code",
   "execution_count": null,
   "metadata": {},
   "outputs": [],
   "source": []
  }
 ],
 "metadata": {
  "kernelspec": {
   "display_name": "venv",
   "language": "python",
   "name": "python3"
  },
  "language_info": {
   "codemirror_mode": {
    "name": "ipython",
    "version": 3
   },
   "file_extension": ".py",
   "mimetype": "text/x-python",
   "name": "python",
   "nbconvert_exporter": "python",
   "pygments_lexer": "ipython3",
   "version": "3.13.2"
  }
 },
 "nbformat": 4,
 "nbformat_minor": 2
}
